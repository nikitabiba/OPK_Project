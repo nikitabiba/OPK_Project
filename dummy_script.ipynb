{
 "cells": [
  {
   "cell_type": "code",
   "execution_count": null,
   "id": "09405200",
   "metadata": {},
   "outputs": [],
   "source": [
    "def func(s):\n",
    "    if not s:\n",
    "            return 0\n",
    "\n",
    "    hashmap = {}\n",
    "    start = 0\n",
    "    end = 0\n",
    "    max_len = end - start + 1\n",
    "\n",
    "    for i in range(len(s)):\n",
    "        if s[i] not in hashmap:\n",
    "            hashmap[s[i]] = i\n",
    "            end = hashmap[s[i]]\n",
    "            if i == len(s) - 1:\n",
    "                if max_len < i - start + 1:\n",
    "                    max_len = i - start + 1\n",
    "        else:\n",
    "            if hashmap[s[i]] + 1 > start:\n",
    "                start = hashmap[s[i]] + 1\n",
    "            hashmap[s[i]] = i\n",
    "            end = hashmap[s[i]]\n",
    "        if max_len < end - start + 1:\n",
    "            max_len = end - start + 1\n",
    "        \n",
    "    return max_len\n"
   ]
  },
  {
   "cell_type": "code",
   "execution_count": 51,
   "id": "6a735afa",
   "metadata": {},
   "outputs": [
    {
     "name": "stdout",
     "output_type": "stream",
     "text": [
      "0 - 0\n",
      "0 - 1\n",
      "2 - 2\n",
      "2 - 3\n"
     ]
    },
    {
     "data": {
      "text/plain": [
       "2"
      ]
     },
     "execution_count": 51,
     "metadata": {},
     "output_type": "execute_result"
    }
   ],
   "source": [
    "func('abba')"
   ]
  }
 ],
 "metadata": {
  "kernelspec": {
   "display_name": "Python 3",
   "language": "python",
   "name": "python3"
  },
  "language_info": {
   "codemirror_mode": {
    "name": "ipython",
    "version": 3
   },
   "file_extension": ".py",
   "mimetype": "text/x-python",
   "name": "python",
   "nbconvert_exporter": "python",
   "pygments_lexer": "ipython3",
   "version": "3.10.5"
  }
 },
 "nbformat": 4,
 "nbformat_minor": 5
}
