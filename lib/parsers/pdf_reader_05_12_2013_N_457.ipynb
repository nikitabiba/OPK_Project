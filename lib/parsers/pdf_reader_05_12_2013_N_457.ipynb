{
 "cells": [
  {
   "cell_type": "code",
   "execution_count": 18,
   "id": "09405200",
   "metadata": {},
   "outputs": [],
   "source": [
    "import os\n",
    "import fitz\n",
    "import re\n",
    "import json\n",
    "from PyPDF2 import PdfReader"
   ]
  },
  {
   "cell_type": "code",
   "execution_count": 19,
   "id": "f3766e1a",
   "metadata": {},
   "outputs": [],
   "source": [
    "def extract_text_from_pdf(pdf_path, skip_pages=0):\n",
    "    reader = PdfReader(pdf_path)\n",
    "    text = \"\"\n",
    "    for i, page in enumerate(reader.pages):\n",
    "        if i < skip_pages:\n",
    "            continue\n",
    "        page_text = page.extract_text()\n",
    "        if page_text:\n",
    "            text += page_text + \"\\n\"\n",
    "    return text\n",
    "\n",
    "def parse_document_with_roman_chapters(text, doc_title):\n",
    "    result = {\n",
    "        \"документ\": doc_title,\n",
    "        \"главы\": []\n",
    "    }\n",
    "\n",
    "    # Регулярка: римская цифра с точкой и названием\n",
    "    chapter_pattern = re.compile(r\"\\b([IVXLCDM]+)\\.\\s+([^\\n]+)\")\n",
    "\n",
    "    matches = list(chapter_pattern.finditer(text))\n",
    "    for i, match in enumerate(matches):\n",
    "        chapter_num = match.group(1) + \".\"\n",
    "        chapter_title = match.group(2).strip()\n",
    "        start = match.end()\n",
    "        end = matches[i + 1].start() if i + 1 < len(matches) else len(text)\n",
    "        chapter_text = text[start:end]\n",
    "\n",
    "        # Поиск пунктов: 1., 2., 3. и т.д.\n",
    "        пункт_matches = list(re.finditer(r\"\\n(\\d+)\\.\\s+(.*?)(?=\\n\\d+\\.|\\Z)\", chapter_text, re.DOTALL))\n",
    "        пункты = [\n",
    "            {\n",
    "                \"номер\": m.group(1) + \".\",\n",
    "                \"текст\": re.sub(r\"\\s+\", \" \", m.group(2)).strip()\n",
    "            }\n",
    "            for m in пункт_matches\n",
    "        ]\n",
    "\n",
    "        result[\"главы\"].append({\n",
    "            \"глава\": chapter_num,\n",
    "            \"заголовок\": chapter_title,\n",
    "            \"пункты\": пункты\n",
    "        })\n",
    "\n",
    "    return result\n"
   ]
  },
  {
   "cell_type": "code",
   "execution_count": 20,
   "id": "77d6fd2a",
   "metadata": {},
   "outputs": [],
   "source": [
    "\n",
    "pdf_path = \"C:\\\\Users\\\\My Computer\\\\Desktop\\\\Work\\\\Learn\\\\OPK_Project\\\\documents_pdf\\\\05_12_2013_N_457.pdf\"\n",
    "outp_path = \"C:\\\\Users\\\\My Computer\\\\Desktop\\\\Work\\\\Learn\\\\OPK_Project\\\\documents_json\\\\05_12_2013_N_457.json\"\n",
    "doc_title = \"АДМИНИСТРАТИВНЫЙ РЕГЛАМЕНТ ФЕДЕРАЛЬНОГО АГЕНТСТВА ВОЗДУШНОГО ТРАНСПОРТА ПРЕДОСТАВЛЕНИЯ ГОСУДАРСТВЕННОЙ УСЛУГИ ПО ГОСУДАРСТВЕННОЙ РЕГИСТРАЦИИ ГРАЖДАНСКИХ ВОЗДУШНЫХ СУДОВ И ВЕДЕНИЮ ГОСУДАРСТВЕННОГО РЕЕСТРА ГРАЖДАНСКИХ ВОЗДУШНЫХ СУДОВ РОССИЙСКОЙ ФЕДЕРАЦИИ Утвержден приказом Минтранса России от 05.12.2013 N 457 \"\n",
    "\n",
    "raw_text = extract_text_from_pdf(pdf_path, skip_pages=0)\n",
    "parsed_json = parse_document_with_roman_chapters(raw_text, doc_title)\n",
    "\n",
    "with open(outp_path, \"w\", encoding=\"utf-8\") as f:\n",
    "    json.dump(parsed_json, f, ensure_ascii=False, indent=2)"
   ]
  }
 ],
 "metadata": {
  "kernelspec": {
   "display_name": "Python 3",
   "language": "python",
   "name": "python3"
  },
  "language_info": {
   "codemirror_mode": {
    "name": "ipython",
    "version": 3
   },
   "file_extension": ".py",
   "mimetype": "text/x-python",
   "name": "python",
   "nbconvert_exporter": "python",
   "pygments_lexer": "ipython3",
   "version": "3.10.5"
  }
 },
 "nbformat": 4,
 "nbformat_minor": 5
}
