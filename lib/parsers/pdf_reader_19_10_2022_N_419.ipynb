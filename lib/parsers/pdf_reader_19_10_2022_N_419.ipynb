{
 "cells": [
  {
   "cell_type": "code",
   "execution_count": null,
   "id": "09405200",
   "metadata": {},
   "outputs": [],
   "source": [
    "import os\n",
    "import fitz\n",
    "import re\n",
    "import json"
   ]
  },
  {
   "cell_type": "code",
   "execution_count": 14,
   "id": "f3766e1a",
   "metadata": {},
   "outputs": [],
   "source": [
    "def normalize_text(text):\n",
    "    return re.sub(r'[ \\t]+', ' ', text.replace('\\xa0', ' ')).strip()\n",
    "\n",
    "def split_into_paragraphs(text):\n",
    "    # Разделяем по основным пунктам (1. 2. 3. и т.д.)\n",
    "    raw_sections = re.split(r'(?=\\n?\\d+\\.)', text)\n",
    "    sections = []\n",
    "\n",
    "    for raw in raw_sections:\n",
    "        raw = raw.strip()\n",
    "        if not raw:\n",
    "            continue\n",
    "        match = re.match(r'^(\\d+)\\.\\s*(.*)', raw, re.DOTALL)\n",
    "        if not match:\n",
    "            continue\n",
    "        num, content = match.groups()\n",
    "        # Выделяем подпункты: а), б), в)... или маркированные списки\n",
    "        subs = re.findall(r'\\n?([а-я]\\))\\s*(.*?)(?=(?:\\n[а-я]\\))|\\n\\d+\\.)', content + '\\n', re.DOTALL)\n",
    "        subs_cleaned = [f\"{s[0]} {normalize_text(s[1])}\" for s in subs] if subs else []\n",
    "        sections.append({\n",
    "            \"номер\": f\"{num}.\",\n",
    "            \"текст\": normalize_text(content.split('\\n')[0]),\n",
    "            \"подпункты\": subs_cleaned\n",
    "        })\n",
    "\n",
    "    return sections\n",
    "\n",
    "def parse_pdf_to_json_19_10_2022_N_419(pdf_path):\n",
    "    doc = fitz.open(pdf_path)\n",
    "    full_text = \"\"\n",
    "    for page in doc:\n",
    "        full_text += page.get_text()\n",
    "\n",
    "    normalized_text = normalize_text(full_text)\n",
    "    sections = split_into_paragraphs(normalized_text)\n",
    "\n",
    "    return {\n",
    "        \"документ\": \"Приказ Минтранса России от 19.10.2022 N 419 'О перечне специалистов авиационного персонала гражданской авиации Российской Федерации'\",\n",
    "        \"главы\": [\n",
    "            {\n",
    "                \"глава\": \"I.\",\n",
    "                \"заголовок\": \"ПЕРЕЧЕНЬ СПЕЦИАЛИСТОВ АВИАЦИОННОГО ПЕРСОНАЛА ГРАЖДАНСКОЙ АВИАЦИИ РОССИЙСКОЙ ФЕДЕРАЦИИ\",\n",
    "                \"пункты\": sections\n",
    "            }\n",
    "        ]\n",
    "    }\n",
    "\n",
    "# Сохраняем\n"
   ]
  },
  {
   "cell_type": "code",
   "execution_count": 16,
   "id": "3a257925",
   "metadata": {},
   "outputs": [],
   "source": [
    "parsed = parse_pdf_to_json_19_10_2022_N_419(\"C:\\\\Users\\\\My Computer\\\\Desktop\\\\Work\\\\Learn\\\\OPK_Project\\\\documents_pdf\\\\19_10_2022_N_419.pdf\")\n",
    "with open(\"C:\\\\Users\\\\My Computer\\\\Desktop\\\\Work\\\\Learn\\\\OPK_Project\\\\documents_json\\\\19_10_2022_N_419.json\", \"w\", encoding=\"utf-8\") as f:\n",
    "    json.dump(parsed, f, ensure_ascii=False, indent=2)"
   ]
  }
 ],
 "metadata": {
  "kernelspec": {
   "display_name": "Python 3",
   "language": "python",
   "name": "python3"
  },
  "language_info": {
   "codemirror_mode": {
    "name": "ipython",
    "version": 3
   },
   "file_extension": ".py",
   "mimetype": "text/x-python",
   "name": "python",
   "nbconvert_exporter": "python",
   "pygments_lexer": "ipython3",
   "version": "3.10.5"
  }
 },
 "nbformat": 4,
 "nbformat_minor": 5
}
