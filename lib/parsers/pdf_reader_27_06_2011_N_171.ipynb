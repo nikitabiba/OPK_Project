{
 "cells": [
  {
   "cell_type": "code",
   "execution_count": null,
   "id": "09405200",
   "metadata": {},
   "outputs": [],
   "source": [
    "import os\n",
    "import fitz\n",
    "import re\n",
    "import json"
   ]
  },
  {
   "cell_type": "code",
   "execution_count": null,
   "id": "f3766e1a",
   "metadata": {},
   "outputs": [],
   "source": [
    "def parse_pdf_to_json_27_06_2011_N_171(pdf_path):\n",
    "    doc = fitz.open(pdf_path)\n",
    "    text = \"\"\n",
    "\n",
    "    # Пропустить первую страницу\n",
    "    for page in doc[1:]:\n",
    "        text += page.get_text()\n",
    "\n",
    "    # Найти начало полезного текста\n",
    "    start_match = re.search(r\"\\bI\\.\\s+Общие положения\\b\", text)\n",
    "    if not start_match:\n",
    "        raise ValueError(\"Не найдена начальная глава 'I. Общие положения'\")\n",
    "    text = text[start_match.start():]  # отрезаем бесполезный текст до начала главы\n",
    "\n",
    "    # Разделение на главы\n",
    "    chapter_pattern = r\"(?:^|\\n)([IVXL]+\\.)\\s+([^\\n]+)\"  # например, 'I. Общие положения'\n",
    "    chapter_matches = list(re.finditer(chapter_pattern, text))\n",
    "\n",
    "    chapters = []\n",
    "    for i, match in enumerate(chapter_matches):\n",
    "        chapter_number = match.group(1).strip()\n",
    "        chapter_title = match.group(2).strip()\n",
    "\n",
    "        start = match.end()\n",
    "        end = chapter_matches[i + 1].start() if i + 1 < len(chapter_matches) else len(text)\n",
    "        chapter_text = text[start:end].strip()\n",
    "\n",
    "        # Разбить на пункты\n",
    "        paragraph_pattern = r\"\\n?(\\d+(\\.\\d+)*\\.)\\s+(.+?)(?=\\n\\d|$)\"\n",
    "        paragraphs = []\n",
    "        for para_match in re.finditer(paragraph_pattern, chapter_text, flags=re.DOTALL):\n",
    "            number = para_match.group(1).strip()\n",
    "            content = para_match.group(3).strip().replace('\\n', ' ')\n",
    "            paragraphs.append({\n",
    "                \"номер\": number,\n",
    "                \"текст\": content\n",
    "            })\n",
    "\n",
    "        chapters.append({\n",
    "            \"глава\": chapter_number,\n",
    "            \"заголовок\": chapter_title,\n",
    "            \"пункты\": paragraphs\n",
    "        })\n",
    "\n",
    "    result = {\n",
    "        \"документ\": pdf_path.split(\"/\")[-1],\n",
    "        \"главы\": chapters\n",
    "    }\n",
    "\n",
    "    return result"
   ]
  },
  {
   "cell_type": "code",
   "execution_count": null,
   "id": "42b605ec",
   "metadata": {},
   "outputs": [
    {
     "name": "stdout",
     "output_type": "stream",
     "text": [
      "Документ успешно сохранён в C:\\Users\\My Computer\\Desktop\\Work\\Learn\\OPK_Project\\documents_json\\27_06_2011_N_171.json\n"
     ]
    }
   ],
   "source": [
    "pdf_path = \"C:\\\\Users\\\\My Computer\\\\Desktop\\\\Work\\\\Learn\\\\OPK_Project\\\\documents_pdf\\\\27_06_2011_N_171.pdf\"\n",
    "outp_path = \"C:\\\\Users\\\\My Computer\\\\Desktop\\\\Work\\\\Learn\\\\OPK_Project\\\\documents_json\\\\27_06_2011_N_171.json\"\n",
    "\n",
    "data = parse_pdf_to_json_27_06_2011_N_171(pdf_path)\n",
    "\n",
    "with open(outp_path, \"w\", encoding=\"utf-8\") as f:\n",
    "    json.dump(data, f, ensure_ascii=False, indent=2)\n",
    "\n",
    "print(f\"Документ успешно сохранён в {outp_path}\")"
   ]
  }
 ],
 "metadata": {
  "kernelspec": {
   "display_name": "Python 3",
   "language": "python",
   "name": "python3"
  },
  "language_info": {
   "codemirror_mode": {
    "name": "ipython",
    "version": 3
   },
   "file_extension": ".py",
   "mimetype": "text/x-python",
   "name": "python",
   "nbconvert_exporter": "python",
   "pygments_lexer": "ipython3",
   "version": "3.10.5"
  }
 },
 "nbformat": 4,
 "nbformat_minor": 5
}
