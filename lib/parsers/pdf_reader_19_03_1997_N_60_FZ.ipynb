{
 "cells": [
  {
   "cell_type": "code",
   "execution_count": 1,
   "id": "09405200",
   "metadata": {},
   "outputs": [],
   "source": [
    "import os\n",
    "import fitz\n",
    "import re\n",
    "import json\n",
    "from PyPDF2 import PdfReader"
   ]
  },
  {
   "cell_type": "code",
   "execution_count": 2,
   "id": "f3766e1a",
   "metadata": {},
   "outputs": [],
   "source": [
    "def extract_text_from_pdf(pdf_path):\n",
    "    reader = PdfReader(pdf_path)\n",
    "    text = \"\"\n",
    "    for page in reader.pages:\n",
    "        text += page.extract_text() + \"\\n\"\n",
    "    return text\n",
    "\n",
    "def parse_pdf_text(text, doc_title=\"Неизвестный документ\"):\n",
    "    result = {\n",
    "        \"документ\": doc_title,\n",
    "        \"главы\": []\n",
    "    }\n",
    "\n",
    "    # Разбиваем по главам: Глава I. ОБЩИЕ ПОЛОЖЕНИЯ\n",
    "    главы_raw = re.split(r\"\\n?Глава\\s+([IVXLCDM]+)\\.\\s+([^\\n]+)\", text)\n",
    "    for i in range(1, len(главы_raw), 3):\n",
    "        номер_главы = главы_raw[i] + \".\"\n",
    "        заголовок = главы_raw[i+1].strip()\n",
    "        текст_главы = главы_raw[i+2]\n",
    "\n",
    "        # Ищем статьи в каждой главе\n",
    "        статьи = re.findall(r\"Статья\\s+(\\d+)\\.\\s+([^\\n]+)(.*?)(?=Статья\\s+\\d+\\.|\\Z)\", текст_главы, re.DOTALL)\n",
    "\n",
    "        пункты = []\n",
    "        for номер, заголовок_статьи, тело in статьи:\n",
    "            тело = re.sub(r\"\\s+\", \" \", тело.strip())\n",
    "            текст = f\"{заголовок_статьи.strip()} {тело}\".strip()\n",
    "            пункты.append({\n",
    "                \"номер\": f\"{номер}.\",\n",
    "                \"текст\": текст\n",
    "            })\n",
    "\n",
    "        result[\"главы\"].append({\n",
    "            \"глава\": номер_главы,\n",
    "            \"заголовок\": заголовок,\n",
    "            \"пункты\": пункты\n",
    "        })\n",
    "\n",
    "    return result"
   ]
  },
  {
   "cell_type": "code",
   "execution_count": 3,
   "id": "7107ba08",
   "metadata": {},
   "outputs": [],
   "source": [
    "pdf_path = \"C:\\\\Users\\\\My Computer\\\\Desktop\\\\Work\\\\Learn\\\\OPK_Project\\\\documents_pdf\\\\19_03_1997_N_60_FZ.pdf\"\n",
    "outp_path = \"C:\\\\Users\\\\My Computer\\\\Desktop\\\\Work\\\\Learn\\\\OPK_Project\\\\documents_json\\\\19_03_1997_N_60_FZ.json\"\n",
    "document_name = \"Воздушный кодекс Российской Федерации от 19.03.1997 N 60-ФЗ (в ред. от 08.08.2024)\"\n",
    "\n",
    "text = extract_text_from_pdf(pdf_path)\n",
    "parsed_json = parse_pdf_text(text, doc_title=document_name)\n",
    "\n",
    "with open(outp_path, \"w\", encoding=\"utf-8\") as f:\n",
    "    json.dump(parsed_json, f, ensure_ascii=False, indent=2)"
   ]
  }
 ],
 "metadata": {
  "kernelspec": {
   "display_name": "Python 3",
   "language": "python",
   "name": "python3"
  },
  "language_info": {
   "codemirror_mode": {
    "name": "ipython",
    "version": 3
   },
   "file_extension": ".py",
   "mimetype": "text/x-python",
   "name": "python",
   "nbconvert_exporter": "python",
   "pygments_lexer": "ipython3",
   "version": "3.10.5"
  }
 },
 "nbformat": 4,
 "nbformat_minor": 5
}
