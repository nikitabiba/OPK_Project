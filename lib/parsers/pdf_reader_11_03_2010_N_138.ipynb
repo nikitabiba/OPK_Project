{
 "cells": [
  {
   "cell_type": "code",
   "execution_count": 1,
   "id": "09405200",
   "metadata": {},
   "outputs": [],
   "source": [
    "import os\n",
    "import fitz\n",
    "import re\n",
    "import json\n",
    "from PyPDF2 import PdfReader"
   ]
  },
  {
   "cell_type": "code",
   "execution_count": 2,
   "id": "f3766e1a",
   "metadata": {},
   "outputs": [],
   "source": [
    "def extract_text_from_pdf(pdf_path, skip_pages=1):\n",
    "    reader = PdfReader(pdf_path)\n",
    "    text = \"\"\n",
    "    for i, page in enumerate(reader.pages):\n",
    "        if i < skip_pages:\n",
    "            continue  # Пропускаем первые страницы\n",
    "        text += page.extract_text() + \"\\n\"\n",
    "    return text\n",
    "\n",
    "def parse_document(text, doc_title=\"Федеральные правила использования воздушного пространства РФ\"):\n",
    "    result = {\n",
    "        \"документ\": doc_title,\n",
    "        \"главы\": []\n",
    "    }\n",
    "\n",
    "    # Разделить по главам вида: I. Общие положения\n",
    "    главы_raw = re.split(r\"\\n([IVXLCDM]+\\.)\\s+([^\\n]+)\", text)\n",
    "    for i in range(1, len(главы_raw), 3):\n",
    "        номер_главы = главы_raw[i]\n",
    "        заголовок_главы = главы_raw[i+1].strip()\n",
    "        текст_главы = главы_raw[i+2]\n",
    "\n",
    "        # Ищем пункты: 1. ... (в начале строки)\n",
    "        пункты = []\n",
    "        for match in re.finditer(r\"\\n?(\\d+)\\.\\s+(.*?)(?=\\n\\d+\\.\\s+|\\Z)\", текст_главы, re.DOTALL):\n",
    "            номер = match.group(1)\n",
    "            текст = re.sub(r\"\\s+\", \" \", match.group(2)).strip()\n",
    "            пункты.append({\n",
    "                \"номер\": f\"{номер}.\",\n",
    "                \"текст\": текст\n",
    "            })\n",
    "\n",
    "        result[\"главы\"].append({\n",
    "            \"глава\": номер_главы,\n",
    "            \"заголовок\": заголовок_главы,\n",
    "            \"пункты\": пункты\n",
    "        })\n",
    "\n",
    "    return result\n",
    "\n"
   ]
  },
  {
   "cell_type": "code",
   "execution_count": 3,
   "id": "293d784b",
   "metadata": {},
   "outputs": [],
   "source": [
    "pdf_path = \"C:\\\\Users\\\\My Computer\\\\Desktop\\\\Work\\\\Learn\\\\OPK_Project\\\\documents_pdf\\\\11_03_2010_N_138.pdf\"\n",
    "outp_path = \"C:\\\\Users\\\\My Computer\\\\Desktop\\\\Work\\\\Learn\\\\OPK_Project\\\\documents_json\\\\11_03_2010_N_138.json\"\n",
    "doc_title = \"ПОСТАНОВЛЕНИЕ от 11 марта 2010 г. N 138 'ОБ УТВЕРЖДЕНИИ ФЕДЕРАЛЬНЫХ ПРАВИЛ ИСПОЛЬЗОВАНИЯ ВОЗДУШНОГО ПРОСТРАНСТВА РОССИЙСКОЙ ФЕДЕРАЦИИ'\"\n",
    "text = extract_text_from_pdf(pdf_path, skip_pages=1)\n",
    "parsed_json = parse_document(text, doc_title)\n",
    "\n",
    "with open(outp_path, \"w\", encoding=\"utf-8\") as f:\n",
    "    json.dump(parsed_json, f, ensure_ascii=False, indent=2)"
   ]
  }
 ],
 "metadata": {
  "kernelspec": {
   "display_name": "Python 3",
   "language": "python",
   "name": "python3"
  },
  "language_info": {
   "codemirror_mode": {
    "name": "ipython",
    "version": 3
   },
   "file_extension": ".py",
   "mimetype": "text/x-python",
   "name": "python",
   "nbconvert_exporter": "python",
   "pygments_lexer": "ipython3",
   "version": "3.10.5"
  }
 },
 "nbformat": 4,
 "nbformat_minor": 5
}
