{
 "cells": [
  {
   "cell_type": "code",
   "execution_count": 1,
   "id": "e1d17770",
   "metadata": {},
   "outputs": [
    {
     "name": "stderr",
     "output_type": "stream",
     "text": [
      "c:\\Users\\My Computer\\AppData\\Local\\Programs\\Python\\Python310\\lib\\site-packages\\tqdm\\auto.py:21: TqdmWarning: IProgress not found. Please update jupyter and ipywidgets. See https://ipywidgets.readthedocs.io/en/stable/user_install.html\n",
      "  from .autonotebook import tqdm as notebook_tqdm\n"
     ]
    },
    {
     "name": "stdout",
     "output_type": "stream",
     "text": [
      "WARNING:tensorflow:From c:\\Users\\My Computer\\AppData\\Local\\Programs\\Python\\Python310\\lib\\site-packages\\tf_keras\\src\\losses.py:2976: The name tf.losses.sparse_softmax_cross_entropy is deprecated. Please use tf.compat.v1.losses.sparse_softmax_cross_entropy instead.\n",
      "\n"
     ]
    }
   ],
   "source": [
    "import os\n",
    "import json\n",
    "from tqdm import tqdm\n",
    "from sentence_transformers import SentenceTransformer\n",
    "import numpy as np\n",
    "import pickle\n",
    "import faiss\n",
    "from langchain_community.vectorstores import FAISS\n",
    "from langchain.retrievers.ensemble import EnsembleRetriever\n",
    "from langchain.retrievers import BM25Retriever\n",
    "from langchain_community.embeddings import HuggingFaceEmbeddings\n",
    "from langchain_core.documents import Document\n",
    "from langchain.vectorstores import FAISS"
   ]
  },
  {
   "cell_type": "code",
   "execution_count": 2,
   "id": "d4d74e3d",
   "metadata": {},
   "outputs": [],
   "source": [
    "JSON_DIR = \"C:\\\\Users\\\\My Computer\\\\Desktop\\\\Work\\\\Learn\\\\OPK_Project\\\\documents_json\"\n",
    "MODEL_NAME = \"sberbank-ai/sbert_large_nlu_ru\"\n",
    "INDEX_NAME = \"index\"\n",
    "VECTOR_STORE_PATH = \"C:\\\\Users\\\\My Computer\\\\Desktop\\\\Work\\\\Learn\\\\OPK_Project\\\\vector_store\"\n",
    "K = 10"
   ]
  },
  {
   "cell_type": "code",
   "execution_count": null,
   "id": "e1e1f403",
   "metadata": {},
   "outputs": [
    {
     "name": "stderr",
     "output_type": "stream",
     "text": [
      "C:\\Users\\My Computer\\AppData\\Local\\Temp\\ipykernel_11204\\1700765211.py:1: LangChainDeprecationWarning: The class `HuggingFaceEmbeddings` was deprecated in LangChain 0.2.2 and will be removed in 1.0. An updated version of the class exists in the :class:`~langchain-huggingface package and should be used instead. To use it run `pip install -U :class:`~langchain-huggingface` and import as `from :class:`~langchain_huggingface import HuggingFaceEmbeddings``.\n",
      "  embedding_model = HuggingFaceEmbeddings(model_name=MODEL_NAME)\n",
      "100%|██████████| 8/8 [00:00<00:00, 1133.40it/s]\n"
     ]
    },
    {
     "name": "stdout",
     "output_type": "stream",
     "text": [
      "Векторизация 738 чанков и сохранение векторного хранилища...\n",
      "\n",
      "✅ Векторный индекс и метаданные сохранены в: C:\\Users\\My Computer\\Desktop\\Work\\Learn\\OPK_Project\\vector_store\n",
      "  - index.faiss\n",
      "  - index.pkl\n"
     ]
    }
   ],
   "source": [
    "embedding_model = HuggingFaceEmbeddings(model_name=MODEL_NAME)\n",
    "\n",
    "docs = []\n",
    "\n",
    "for filename in tqdm(os.listdir(JSON_DIR)):\n",
    "    with open(os.path.join(JSON_DIR, filename), \"r\", encoding=\"utf-8\") as f:\n",
    "        data = json.load(f)\n",
    "\n",
    "    doc_name = data.get(\"документ\", filename)\n",
    "\n",
    "    for глава in data.get(\"главы\", []):\n",
    "        глава_номер = глава.get(\"глава\", \"\")\n",
    "        заголовок = глава.get(\"заголовок\", \"\")\n",
    "\n",
    "        for пункт in глава.get(\"пункты\", []):\n",
    "            номер_пункта = пункт.get(\"номер\", \"\")\n",
    "            текст = пункт.get(\"текст\", \"\")\n",
    "\n",
    "            if not текст.strip():\n",
    "                continue\n",
    "\n",
    "            metadata = {\n",
    "                \"документ\": doc_name,\n",
    "                \"глава\": глава_номер,\n",
    "                \"заголовок\": заголовок,\n",
    "                \"пункт\": номер_пункта,\n",
    "            }\n",
    "\n",
    "            docs.append(Document(page_content=текст, metadata=metadata))\n",
    "\n",
    "print(f\"Векторизация {len(docs)} чанков и сохранение векторного хранилища...\")\n",
    "faiss_index = FAISS.from_documents(docs, embedding_model)\n",
    "\n",
    "faiss_index.save_local(folder_path=VECTOR_STORE_PATH, index_name=INDEX_NAME)\n",
    "\n",
    "print(f\"\\nВекторный индекс и метаданные сохранены в: {VECTOR_STORE_PATH}\")\n",
    "print(f\"  - {INDEX_NAME}.faiss\")\n",
    "print(f\"  - {INDEX_NAME}.pkl\")"
   ]
  },
  {
   "cell_type": "code",
   "execution_count": 3,
   "id": "36301320",
   "metadata": {},
   "outputs": [
    {
     "name": "stderr",
     "output_type": "stream",
     "text": [
      "C:\\Users\\My Computer\\AppData\\Local\\Temp\\ipykernel_3724\\3878580727.py:1: LangChainDeprecationWarning: The class `HuggingFaceEmbeddings` was deprecated in LangChain 0.2.2 and will be removed in 1.0. An updated version of the class exists in the :class:`~langchain-huggingface package and should be used instead. To use it run `pip install -U :class:`~langchain-huggingface` and import as `from :class:`~langchain_huggingface import HuggingFaceEmbeddings``.\n",
      "  embedding_model = HuggingFaceEmbeddings(model_name=MODEL_NAME)\n"
     ]
    }
   ],
   "source": [
    "embedding_model = HuggingFaceEmbeddings(model_name=MODEL_NAME)\n",
    "faiss_index = FAISS.load_local(VECTOR_STORE_PATH, embedding_model, index_name=INDEX_NAME, allow_dangerous_deserialization=True)\n",
    "\n",
    "bm25_documents = []\n",
    "\n",
    "for filename in os.listdir(JSON_DIR):\n",
    "    if filename.endswith(\".json\"):\n",
    "        path = os.path.join(JSON_DIR, filename)\n",
    "        with open(path, \"r\", encoding=\"utf-8\") as f:\n",
    "            data = json.load(f)\n",
    "\n",
    "        doc_name = data.get(\"документ\", filename)\n",
    "\n",
    "        for глава in data.get(\"главы\", []):\n",
    "            номер_главы = глава.get(\"глава\", \"\")\n",
    "            заголовок = глава.get(\"заголовок\", \"\")\n",
    "\n",
    "            for пункт in глава.get(\"пункты\", []):\n",
    "                номер_пункта = пункт.get(\"номер\", \"\")\n",
    "                текст = пункт.get(\"текст\", \"\").strip()\n",
    "\n",
    "                if not текст:\n",
    "                    continue\n",
    "\n",
    "                bm25_documents.append(Document(\n",
    "                    page_content=текст,\n",
    "                    metadata={\n",
    "                        \"документ\": doc_name,\n",
    "                        \"глава\": номер_главы,\n",
    "                        \"заголовок\": заголовок,\n",
    "                        \"пункт\": номер_пункта\n",
    "                    }\n",
    "                ))\n",
    "\n",
    "bm25_retriever = BM25Retriever.from_documents(bm25_documents)\n",
    "bm25_retriever.k = K\n",
    "\n",
    "faiss_retriever = faiss_index.as_retriever(search_kwargs={\"k\": K})\n",
    "\n",
    "retriever = EnsembleRetriever(\n",
    "    retrievers=[bm25_retriever, faiss_retriever],\n",
    "    weights=[0.5, 0.5]\n",
    ")\n",
    "\n",
    "def retrieve(query: str, k: int = K):\n",
    "    results = retriever.get_relevant_documents(query)\n",
    "    return results[:k]"
   ]
  },
  {
   "cell_type": "code",
   "execution_count": 5,
   "id": "d70607fc",
   "metadata": {},
   "outputs": [
    {
     "name": "stdout",
     "output_type": "stream",
     "text": [
      "Документ: Приказ Министерства транспорта Российской Федерации от 24 января 2013 г. № 13 «Об утверждении Табеля сообщений о движении воздушных судов в Российской Федерации»\n",
      "Глава: I. | Пункт: 2.\n",
      "Текст: Настоящий Табель сообщений определяет: состав (объем) информации, включаемой в сообщение о представленном плане полета воз- душного судна, и правила передачи указанного сообщения; состав (объем) инфор\n",
      "------------------------------------------------------------\n",
      "Документ: ПОСТАНОВЛЕНИЕ от 11 марта 2010 г. N 138 'ОБ УТВЕРЖДЕНИИ ФЕДЕРАЛЬНЫХ ПРАВИЛ ИСПОЛЬЗОВАНИЯ ВОЗДУШНОГО ПРОСТРАНСТВА РОССИЙСКОЙ ФЕДЕРАЦИИ'\n",
      "Глава: II. | Пункт: 75.\n",
      "Текст: В воздушном пространстве устанавливаются минимальные интервалы горизонтального эшелонирования.\n",
      "------------------------------------------------------------\n",
      "Документ: Приказ Министерства транспорта Российской Федерации от 24 января 2013 г. № 13 «Об утверждении Табеля сообщений о движении воздушных судов в Российской Федерации»\n",
      "Глава: II. | Пункт: 13.7.3.\n",
      "Текст: Вслед за обозначением крейсерской скорости и запрашиваемого эшелона (высоты) по- лета воздушного судна через пробелы последовательно указываются элементы маршрута полета воздушного судна, включая инфо\n",
      "------------------------------------------------------------\n",
      "Документ: Приказ Министерства транспорта Российской Федерации от 24 января 2013 г. № 13 «Об утверждении Табеля сообщений о движении воздушных судов в Российской Федерации»\n",
      "Глава: II. | Пункт: 13.7.4.6.\n",
      "Текст: При описании маршрута полета воздушного судна, выполняемого вне маршрутов ОВД, необходимо придерживаться следующих ниже правил.\n",
      "------------------------------------------------------------\n",
      "Документ: Воздушный кодекс Российской Федерации от 19.03.1997 N 60-ФЗ (в ред. от 08.08.2024)\n",
      "Глава: X. | Пункт: 72.\n",
      "Текст: Полет воздушного судна над населенными пунктами Полет воздушного судна над населенными пунктами должен выполняться на высоте, позволяющей в случае неисправности воздушного судна произвести посадку за \n",
      "------------------------------------------------------------\n",
      "Документ: ПОСТАНОВЛЕНИЕ от 11 марта 2010 г. N 138 'ОБ УТВЕРЖДЕНИИ ФЕДЕРАЛЬНЫХ ПРАВИЛ ИСПОЛЬЗОВАНИЯ ВОЗДУШНОГО ПРОСТРАНСТВА РОССИЙСКОЙ ФЕДЕРАЦИИ'\n",
      "Глава: VII. | Пункт: 148.\n",
      "Текст: Положение воздушного судна в вертикальной плоскости определяется уровнем полета и выдерживается экипажем по баромет рическому высотомеру.\n",
      "------------------------------------------------------------\n",
      "Документ: ПОСТАНОВЛЕНИЕ от 11 марта 2010 г. N 138 'ОБ УТВЕРЖДЕНИИ ФЕДЕРАЛЬНЫХ ПРАВИЛ ИСПОЛЬЗОВАНИЯ ВОЗДУШНОГО ПРОСТРАНСТВА РОССИЙСКОЙ ФЕДЕРАЦИИ'\n",
      "Глава: VII. | Пункт: 161.\n",
      "Текст: При невоз можности выполнения полета по правилам визуальных полетов командир воздушного судна обязан выполнять полет по правилам полетов по приборам при наличии соответствующего допуска. Решение о пер\n",
      "------------------------------------------------------------\n",
      "Документ: ПОСТАНОВЛЕНИЕ от 11 марта 2010 г. N 138 'ОБ УТВЕРЖДЕНИИ ФЕДЕРАЛЬНЫХ ПРАВИЛ ИСПОЛЬЗОВАНИЯ ВОЗДУШНОГО ПРОСТРАНСТВА РОССИЙСКОЙ ФЕДЕРАЦИИ'\n",
      "Глава: IV. | Пункт: 125.\n",
      "Текст: При планировании полетов в воздушном пространстве класса G пользователи возд ушного пространства руководствуются аэронавигационной и метеорологической информацией.\n",
      "------------------------------------------------------------\n",
      "Документ: ПОСТАНОВЛЕНИЕ от 11 марта 2010 г. N 138 'ОБ УТВЕРЖДЕНИИ ФЕДЕРАЛЬНЫХ ПРАВИЛ ИСПОЛЬЗОВАНИЯ ВОЗДУШНОГО ПРОСТРАНСТВА РОССИЙСКОЙ ФЕДЕРАЦИИ'\n",
      "Глава: III. | Пункт: 111.\n",
      "Текст: Состав (объем) информации, включаемой в сообщение о плане использования воздушног о пространства, и правила передачи указанного плана определяются табелем сообщений о движении воздушных судов в Россий\n",
      "------------------------------------------------------------\n",
      "Документ: ПОСТАНОВЛЕНИЕ от 11 марта 2010 г. N 138 'ОБ УТВЕРЖДЕНИИ ФЕДЕРАЛЬНЫХ ПРАВИЛ ИСПОЛЬЗОВАНИЯ ВОЗДУШНОГО ПРОСТРАНСТВА РОССИЙСКОЙ ФЕДЕРАЦИИ'\n",
      "Глава: VII. | Пункт: 147.\n",
      "Текст: Для обеспечения безопасности полетов воздушных судов устанавливаются безопасные высоты полета. Расчет безопасных высот полета воздуш ного судна осуществляется в соответствии с приложением N 2.\n",
      "------------------------------------------------------------\n"
     ]
    }
   ],
   "source": [
    "results = retrieve(\"правила визуального полета\", k=10)\n",
    "for doc in results:\n",
    "    print(\"Документ:\", doc.metadata[\"документ\"])\n",
    "    print(\"Глава:\", doc.metadata[\"глава\"], \"| Пункт:\", doc.metadata[\"пункт\"])\n",
    "    print(\"Текст:\", doc.page_content[:200])\n",
    "    print(\"-\" * 60)"
   ]
  }
 ],
 "metadata": {
  "kernelspec": {
   "display_name": "Python 3",
   "language": "python",
   "name": "python3"
  },
  "language_info": {
   "codemirror_mode": {
    "name": "ipython",
    "version": 3
   },
   "file_extension": ".py",
   "mimetype": "text/x-python",
   "name": "python",
   "nbconvert_exporter": "python",
   "pygments_lexer": "ipython3",
   "version": "3.10.5"
  }
 },
 "nbformat": 4,
 "nbformat_minor": 5
}
